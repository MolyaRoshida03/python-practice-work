{
 "cells": [
  {
   "cell_type": "markdown",
   "id": "dab3a101",
   "metadata": {},
   "source": [
    "#  for loop"
   ]
  },
  {
   "cell_type": "code",
   "execution_count": 3,
   "id": "13380be9",
   "metadata": {},
   "outputs": [],
   "source": [
    "nums = [1,2,3,4,5]"
   ]
  },
  {
   "cell_type": "code",
   "execution_count": 4,
   "id": "64bf7dda",
   "metadata": {},
   "outputs": [
    {
     "name": "stdout",
     "output_type": "stream",
     "text": [
      "1\n",
      "2\n",
      "3\n",
      "4\n",
      "5\n"
     ]
    }
   ],
   "source": [
    "for num in nums:\n",
    "    print(num)"
   ]
  },
  {
   "cell_type": "markdown",
   "id": "99610bd2",
   "metadata": {},
   "source": [
    "### 2 keywords:\n",
    "1. break \n",
    "2. continuue"
   ]
  },
  {
   "cell_type": "code",
   "execution_count": 5,
   "id": "1268c41b",
   "metadata": {},
   "outputs": [
    {
     "name": "stdout",
     "output_type": "stream",
     "text": [
      "1\n",
      "2\n",
      "Found!\n"
     ]
    }
   ],
   "source": [
    "# break statements\n",
    "for num in nums:\n",
    "    if num==3:\n",
    "        print('Found!')\n",
    "        break\n",
    "    print(num)"
   ]
  },
  {
   "cell_type": "code",
   "execution_count": 6,
   "id": "548a5f6d",
   "metadata": {},
   "outputs": [
    {
     "name": "stdout",
     "output_type": "stream",
     "text": [
      "1\n",
      "2\n",
      "Found!\n",
      "4\n",
      "5\n"
     ]
    }
   ],
   "source": [
    "# continue statement\n",
    "\n",
    "for num in nums:\n",
    "    if num==3:\n",
    "        print('Found!')\n",
    "        continue\n",
    "    print(num)"
   ]
  },
  {
   "cell_type": "code",
   "execution_count": 7,
   "id": "6f8171ce",
   "metadata": {},
   "outputs": [
    {
     "name": "stdout",
     "output_type": "stream",
     "text": [
      "1 a\n",
      "1 b\n",
      "1 c\n",
      "2 a\n",
      "2 b\n",
      "2 c\n",
      "3 a\n",
      "3 b\n",
      "3 c\n",
      "4 a\n",
      "4 b\n",
      "4 c\n",
      "5 a\n",
      "5 b\n",
      "5 c\n"
     ]
    }
   ],
   "source": [
    "for num in nums:  # nested loop\n",
    "    for letter in 'abc':\n",
    "        print(num,letter)"
   ]
  },
  {
   "cell_type": "code",
   "execution_count": 11,
   "id": "f455f344",
   "metadata": {},
   "outputs": [
    {
     "name": "stdout",
     "output_type": "stream",
     "text": [
      "1\n",
      "2\n",
      "3\n",
      "4\n",
      "5\n",
      "6\n",
      "7\n",
      "8\n",
      "9\n",
      "10\n"
     ]
    }
   ],
   "source": [
    "# builtin function - range\n",
    "\n",
    "for i in range(1,11): # it does not include last value\n",
    "    print(i)"
   ]
  },
  {
   "cell_type": "markdown",
   "id": "c5c41022",
   "metadata": {},
   "source": [
    "# while loop "
   ]
  },
  {
   "cell_type": "code",
   "execution_count": 20,
   "id": "39b1317f",
   "metadata": {},
   "outputs": [],
   "source": [
    "x = 0"
   ]
  },
  {
   "cell_type": "code",
   "execution_count": 18,
   "id": "66c301f5",
   "metadata": {},
   "outputs": [
    {
     "name": "stdout",
     "output_type": "stream",
     "text": [
      "0\n",
      "1\n",
      "2\n",
      "3\n",
      "4\n",
      "5\n",
      "6\n",
      "7\n",
      "8\n",
      "9\n"
     ]
    }
   ],
   "source": [
    "while x<10:\n",
    "    print(x)\n",
    "    x+=1"
   ]
  },
  {
   "cell_type": "code",
   "execution_count": 22,
   "id": "e04ac0ba",
   "metadata": {},
   "outputs": [
    {
     "name": "stdout",
     "output_type": "stream",
     "text": [
      "0\n",
      "1\n",
      "2\n",
      "3\n",
      "4\n"
     ]
    }
   ],
   "source": [
    "x = 0\n",
    "\n",
    "while x<10:\n",
    "    if x==5:\n",
    "        break\n",
    "    print(x)\n",
    "    x+=1"
   ]
  },
  {
   "cell_type": "code",
   "execution_count": 23,
   "id": "9459e88d",
   "metadata": {},
   "outputs": [
    {
     "name": "stdout",
     "output_type": "stream",
     "text": [
      "0\n",
      "1\n",
      "2\n",
      "3\n",
      "4\n"
     ]
    }
   ],
   "source": [
    "x = 0\n",
    "\n",
    "while True:  # using only contional statements which starts with contion until it false\n",
    "    if x==5:\n",
    "        break\n",
    "    print(x)\n",
    "    x+=1"
   ]
  },
  {
   "cell_type": "code",
   "execution_count": 83,
   "id": "000176fd",
   "metadata": {},
   "outputs": [
    {
     "name": "stdout",
     "output_type": "stream",
     "text": [
      "\n",
      "Please enter a choice (rock,paper,scissors ) :scissors\n",
      "{'player': 'scissors', 'computer': 'paper'}\n"
     ]
    }
   ],
   "source": [
    "import random\n",
    "\n",
    "def get_choices():\n",
    "    player_choice = input(\"\\nPlease enter a choice (rock,paper,scissors ) :\") \n",
    "    \n",
    "    # creating list\n",
    "    options = [\"rock\",\"paper\",\"scissors\"]\n",
    "    computer_choice = random.choice(options)\n",
    "    \n",
    "    \n",
    "    # in key value we can also take varivle as well , it can be variable as well\n",
    "    # creating dictionaries\n",
    "    \n",
    "    choices = {\"player\": player_choice,\n",
    "              \"computer\": computer_choice}\n",
    "    \n",
    "    return choices\n",
    "\n",
    "choices = get_choices()\n",
    "print(choices)\n",
    "\n",
    "\n",
    "\n"
   ]
  },
  {
   "cell_type": "code",
   "execution_count": 66,
   "id": "bb5b7767",
   "metadata": {},
   "outputs": [
    {
     "name": "stdout",
     "output_type": "stream",
     "text": [
      "Hi\n"
     ]
    }
   ],
   "source": [
    "def greeting():\n",
    "    return \"Hi\"\n",
    "\n",
    "response = greeting()\n",
    "print(response)\n"
   ]
  },
  {
   "cell_type": "code",
   "execution_count": 67,
   "id": "11a3ac1e",
   "metadata": {},
   "outputs": [],
   "source": [
    "dict = {\"name\": \"Molya Roshida\",\n",
    "       \"color\":choices}\n"
   ]
  },
  {
   "cell_type": "code",
   "execution_count": null,
   "id": "4d84c227",
   "metadata": {},
   "outputs": [],
   "source": []
  },
  {
   "cell_type": "code",
   "execution_count": 70,
   "id": "777227fd",
   "metadata": {},
   "outputs": [
    {
     "name": "stdout",
     "output_type": "stream",
     "text": [
      "pizza\n"
     ]
    }
   ],
   "source": [
    "food = [\"pizza\",\"carrots\",\"eggs\"]\n",
    "\n",
    "for dinner in food:\n",
    "    dinner = random.choice(food)\n",
    "print(dinner)\n"
   ]
  },
  {
   "cell_type": "code",
   "execution_count": null,
   "id": "1905e7e9",
   "metadata": {},
   "outputs": [],
   "source": []
  }
 ],
 "metadata": {
  "kernelspec": {
   "display_name": "Python 3 (ipykernel)",
   "language": "python",
   "name": "python3"
  },
  "language_info": {
   "codemirror_mode": {
    "name": "ipython",
    "version": 3
   },
   "file_extension": ".py",
   "mimetype": "text/x-python",
   "name": "python",
   "nbconvert_exporter": "python",
   "pygments_lexer": "ipython3",
   "version": "3.10.9"
  }
 },
 "nbformat": 4,
 "nbformat_minor": 5
}
