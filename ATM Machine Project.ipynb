{
 "cells": [
  {
   "cell_type": "markdown",
   "id": "96df6a7e",
   "metadata": {},
   "source": [
    " 1. check if the user exists in our database,\n",
    "   the dataset will contain : user pin, user name, user balance\n",
    "       \n",
    "2. user will get the options to withdraw, deposit, balance check or to exit after entering the pin\n",
    "\n",
    "3. when the user deposits or withdraws the amount , it should be updated in database"
   ]
  },
  {
   "cell_type": "code",
   "execution_count": null,
   "id": "6b267977",
   "metadata": {},
   "outputs": [
    {
     "name": "stdin",
     "output_type": "stream",
     "text": [
      "Enter your pin :  456\n"
     ]
    },
    {
     "name": "stdout",
     "output_type": "stream",
     "text": [
      "Welcome Aman to ABC Bank!! Please select one of the following options :\n",
      "1 deposit\n",
      "2 withdrawl\n",
      "3 balance enquiry\n",
      "4 exit\n"
     ]
    }
   ],
   "source": [
    "options = ['deposit', 'withdrawl','balance enquiry','exit']\n",
    "\n",
    "database = {123:['Roshida',5000],\n",
    "           456:['Aman',3000]}\n",
    "\n",
    "\n",
    "\n",
    "while True:\n",
    "\n",
    "    pin = int(input('Enter your pin : '))\n",
    "\n",
    "    if pin in database.keys():\n",
    "\n",
    "        name = database[pin][0]\n",
    "        bal = database[pin][1]\n",
    "        print(f'Welcome {name} to ABC Bank!! Please select one of the following options :')\n",
    "\n",
    "\n",
    "        for i,option in enumerate(options,1):\n",
    "            print(i,option)\n",
    "\n",
    "        option = input('Enter the option code : ')\n",
    "\n",
    "\n",
    "        if option =='1': # deposit\n",
    "            amount = int(input('Please enter the Amount : '))\n",
    "            database[pin][1]+=amount\n",
    "            balance = database[pin][1]\n",
    "\n",
    "            print(f'Amount Rs. {amount} Deposited.')\n",
    "            print(f'Current Savings Acount Balance is Rs. {balance}')\n",
    "\n",
    "\n",
    "        elif option =='2': # withdrawl\n",
    "\n",
    "                amount = int(input('Please enter the Amount : '))\n",
    "                \n",
    "                if amount<balance:\n",
    "\n",
    "                    database[pin][1]-=amount\n",
    "                    balance = database[pin][1]\n",
    "\n",
    "                    print(f'Amount Rs. {amount} Withdrawn.')\n",
    "                    print(f'Current Savings Acount Balance is Rs. {balance}')\n",
    "                    print('Please collect your cash')\n",
    "                else:  \n",
    "                    print('Insufficent balance')\n",
    "\n",
    "        elif option =='3': # enquiry\n",
    "            print(f'Current Savings Acount Balance is Rs. {balance}')\n",
    "        elif option=='4':\n",
    "            break\n",
    "\n",
    "    else:\n",
    "        print('Sorry, user does not exist or wrong pin')"
   ]
  },
  {
   "cell_type": "code",
   "execution_count": null,
   "id": "f9342d93",
   "metadata": {},
   "outputs": [],
   "source": []
  }
 ],
 "metadata": {
  "kernelspec": {
   "display_name": "Python 3 (ipykernel)",
   "language": "python",
   "name": "python3"
  },
  "language_info": {
   "codemirror_mode": {
    "name": "ipython",
    "version": 3
   },
   "file_extension": ".py",
   "mimetype": "text/x-python",
   "name": "python",
   "nbconvert_exporter": "python",
   "pygments_lexer": "ipython3",
   "version": "3.11.7"
  }
 },
 "nbformat": 4,
 "nbformat_minor": 5
}
