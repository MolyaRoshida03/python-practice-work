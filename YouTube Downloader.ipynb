{
 "cells": [
  {
   "cell_type": "code",
   "execution_count": 1,
   "id": "b9885e53",
   "metadata": {},
   "outputs": [],
   "source": [
    "# pip install tkinter"
   ]
  },
  {
   "cell_type": "code",
   "execution_count": 2,
   "id": "5dd3a784",
   "metadata": {},
   "outputs": [],
   "source": [
    "#pip install customtkinter"
   ]
  },
  {
   "cell_type": "code",
   "execution_count": 3,
   "id": "d98ec4f6",
   "metadata": {},
   "outputs": [],
   "source": [
    "#pip install pytube"
   ]
  },
  {
   "cell_type": "code",
   "execution_count": 1,
   "id": "368832a4",
   "metadata": {},
   "outputs": [
    {
     "name": "stdout",
     "output_type": "stream",
     "text": [
      "C:\\Users\\fuj\n"
     ]
    }
   ],
   "source": [
    "import os\n",
    "print(os.getcwd())"
   ]
  },
  {
   "cell_type": "code",
   "execution_count": 2,
   "id": "72fb436f",
   "metadata": {},
   "outputs": [],
   "source": [
    "import tkinter\n",
    "import customtkinter\n",
    "from pytube import YouTube"
   ]
  },
  {
   "cell_type": "code",
   "execution_count": 3,
   "id": "60db40bf",
   "metadata": {},
   "outputs": [
    {
     "name": "stdout",
     "output_type": "stream",
     "text": [
      "Download Completed\n"
     ]
    }
   ],
   "source": [
    "# creating a function to download \n",
    "\n",
    "def StartDownload():\n",
    "    \n",
    "    try:\n",
    "        ytlink = link.get()\n",
    "        ytobject = YouTube(ytlink)\n",
    "        video = ytobject.streams.get_highest_resolution()\n",
    "        title.configure(text=ytobject.title)\n",
    "        #finishable = customtkinter.CTkLabel(app,text='')\n",
    "        video.download()\n",
    "        \n",
    "    except:\n",
    "        finishable.configure(text = 'Invalid url',text_color='red')\n",
    "        print('Invalid URL')\n",
    "        \n",
    "    else:\n",
    "        finishable.configure(text = 'Downloaded!!!',text_color='green')\n",
    "        print('Download Completed')\n",
    "\n",
    "\n",
    "\n",
    "\n",
    "\n",
    "# GUI settings\n",
    "\n",
    "customtkinter.set_appearance_mode('dark')\n",
    "customtkinter.set_default_color_theme('blue')\n",
    "\n",
    "app = customtkinter.CTk()\n",
    "app.geometry('720x480')\n",
    "\n",
    "\n",
    "app.title('YouTube Downloader')\n",
    "\n",
    "## Adding UI elemts\n",
    "title = customtkinter.CTkLabel(app,text = 'insert YouTube link')\n",
    "title.pack(padx=10,pady=10)\n",
    "\n",
    "\n",
    "\n",
    "## Adding url box\n",
    "\n",
    "url = tkinter.StringVar()\n",
    "\n",
    "link = customtkinter.CTkEntry(app,width=350,height=40,textvariable=url)\n",
    "link.pack()\n",
    "\n",
    "\n",
    "finishable = customtkinter.CTkLabel(app,text='')\n",
    "finishable.pack()\n",
    "\n",
    "\n",
    "## download button \n",
    "\n",
    "download = customtkinter.CTkButton(app,text='Download', command = StartDownload)\n",
    "download.pack(padx=10,pady=10)\n",
    "\n",
    "\n",
    "app.mainloop()\n"
   ]
  },
  {
   "cell_type": "code",
   "execution_count": null,
   "id": "07ad47a8",
   "metadata": {},
   "outputs": [],
   "source": []
  },
  {
   "cell_type": "code",
   "execution_count": null,
   "id": "be029ff4-21f5-415c-a0dd-82d0673df374",
   "metadata": {},
   "outputs": [],
   "source": []
  }
 ],
 "metadata": {
  "kernelspec": {
   "display_name": "Python 3 (ipykernel)",
   "language": "python",
   "name": "python3"
  },
  "language_info": {
   "codemirror_mode": {
    "name": "ipython",
    "version": 3
   },
   "file_extension": ".py",
   "mimetype": "text/x-python",
   "name": "python",
   "nbconvert_exporter": "python",
   "pygments_lexer": "ipython3",
   "version": "3.11.7"
  }
 },
 "nbformat": 4,
 "nbformat_minor": 5
}
